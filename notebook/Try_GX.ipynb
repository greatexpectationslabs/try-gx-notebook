{
 "cells": [
  {
   "cell_type": "markdown",
   "id": "f3078575-607e-40d9-92d9-00f662820afa",
   "metadata": {},
   "source": [
    "# Try GX"
   ]
  },
  {
   "cell_type": "markdown",
   "id": "cf562a9f-d7ed-4cbc-a2df-b6597bc8cec4",
   "metadata": {},
   "source": [
    "<a href=\"https://colab.research.google.com/github/greatexpectationslabs/try-gx-notebook/blob/main/notebook/Try_GX.ipynb\" target=\"_parent\"><img src=\"https://colab.research.google.com/assets/colab-badge.svg\" alt=\"Open In Colab\">"
   ]
  },
  {
   "cell_type": "markdown",
   "id": "98bbb01b-e70f-4cdb-9cdc-c581b019d253",
   "metadata": {},
   "source": [
    "## What is GX?\n"
   ]
  },
  {
   "cell_type": "markdown",
   "id": "05a8960d-d932-4657-90b0-c26459efc2c6",
   "metadata": {},
   "source": [
    "[Great Expectations (GX)](https://docs.greatexpectations.io/docs/home) is the leading platform for validating and documenting your data. GX is a framework that enables you to describe data using expressive tests and then validate that the data meets those criteria. [GX 1.0](https://docs.greatexpectations.io/docs/1.0-prerelease/core/introduction/) is the open source Python library that supports the Great Expectations platform.\n",
    "\n",
    "Software developers have long known that automated testing is essential for managing complex codebases. GX brings the same discipline, confidence, and acceleration to data science and data engineering teams."
   ]
  },
  {
   "cell_type": "markdown",
   "id": "f3cee89b-2d9b-48aa-aee1-2b5386fc5f4e",
   "metadata": {},
   "source": [
    "Start here to learn how to connect to sample data, build an Expectation, validate sample data, and review Validation Results. This is an ideal place to start if you're new to GX 1.0 and want to experiment with features and see what it offers."
   ]
  },
  {
   "cell_type": "markdown",
   "id": "3c6bbbbe-3157-4dbe-ab04-1d5af1bb5612",
   "metadata": {},
   "source": [
    "## Install GX"
   ]
  },
  {
   "cell_type": "markdown",
   "id": "a173962b-607e-4d0b-b1ac-22d0a6717341",
   "metadata": {},
   "source": [
    "First, install GX. "
   ]
  },
  {
   "cell_type": "code",
   "execution_count": null,
   "id": "2ad73a19-9ca0-4c97-adc7-966ba3da94cc",
   "metadata": {
    "jupyter": {
     "source_hidden": true
    }
   },
   "outputs": [],
   "source": [
    "!pip install --pre great_expectations"
   ]
  },
  {
   "cell_type": "markdown",
   "id": "82014257-7c9c-4ad3-8025-056cab3154fe",
   "metadata": {},
   "source": [
    "## Import GX"
   ]
  },
  {
   "cell_type": "markdown",
   "id": "2c7654bd-f6a7-42a2-9d6a-0f328e6b6edc",
   "metadata": {},
   "source": [
    "Import the `great_expectations` library and `expectations` module:\n",
    "* The `great_expectations` module is the root of the GX library and contains shortcuts and convenience methods for starting a GX project in a Python session.\n",
    "* The `expectations module` contains all the Expectation classes that are provided by the GX library."
   ]
  },
  {
   "cell_type": "code",
   "execution_count": null,
   "id": "0f0214b0-9763-4607-aa47-fe584fc25f35",
   "metadata": {},
   "outputs": [],
   "source": [
    "import great_expectations as gx\n",
    "import great_expectations.expectations as gxe"
   ]
  },
  {
   "cell_type": "markdown",
   "id": "6f4869e7-b417-4e05-9f2c-ca73d476337b",
   "metadata": {},
   "source": [
    "## Connect to sample data"
   ]
  },
  {
   "cell_type": "markdown",
   "id": "35648eef-ea07-4046-a9e2-228636b88afe",
   "metadata": {},
   "source": [
    "Create a temporary Data Context and connect to sample data.\n",
    "\n",
    "In Python, a Data Context provides an entrypoint for interacting with many common GX objects.\n",
    "\n",
    "Initialize a Data Context and then use it to read the contents of a .csv file into a Batch of sample data:"
   ]
  },
  {
   "cell_type": "code",
   "execution_count": null,
   "id": "ab47254a-5477-43d3-988d-bca8ac28d937",
   "metadata": {},
   "outputs": [],
   "source": [
    "context = gx.get_context()\n",
    "\n",
    "batch = context.data_sources.pandas_default.read_csv(\n",
    "    \"https://raw.githubusercontent.com/great-expectations/gx_tutorials/main/data/yellow_tripdata_sample_2019-01.csv\"\n",
    ")"
   ]
  },
  {
   "cell_type": "code",
   "execution_count": null,
   "id": "07aded77-06e1-40ef-aa04-4fcb6def397d",
   "metadata": {},
   "outputs": [],
   "source": [
    "batch.head()"
   ]
  },
  {
   "cell_type": "markdown",
   "id": "ce9af129-dfce-4f2b-bf8d-fc7e95d55e33",
   "metadata": {},
   "source": [
    "You'll use this sample data to test your Expectations."
   ]
  },
  {
   "cell_type": "markdown",
   "id": "4408e337-d559-4fb1-bbaf-8dc58a6db25e",
   "metadata": {},
   "source": [
    "## Create an Expectation"
   ]
  },
  {
   "cell_type": "markdown",
   "id": "2dc12ae3-cd3b-4aab-be71-6e2aa57c5a9d",
   "metadata": {},
   "source": [
    "Expectations are a fundamental component of GX. They allow you to explicitly define the state to which your data should conform.\n",
    "\n",
    "The sample data you're using is taxi trip record data. With this data, you can make certain assumptions. For example, the passenger count shouldn't be zero because at least one passenger needs to be present. Additionally, a taxi can accomodate a maximum of six passengers.\n",
    "\n",
    "Run the following code to define an Expectation that the contents of the column `passenger_count` consist of values ranging from `1` to `6`:"
   ]
  },
  {
   "cell_type": "code",
   "execution_count": null,
   "id": "9d27afff-9cd6-45dd-ae96-c8955f93a980",
   "metadata": {},
   "outputs": [],
   "source": [
    "expectation = gxe.ExpectColumnValuesToBeBetween(\n",
    "    column=\"passenger_count\", min_value=1, max_value=6\n",
    ")"
   ]
  },
  {
   "cell_type": "markdown",
   "id": "bc1aff9e-0308-45b3-8174-431348aa7c96",
   "metadata": {},
   "source": [
    "## Validate data and view results"
   ]
  },
  {
   "cell_type": "markdown",
   "id": "d4d4aefb-b2c1-4cfb-8a9d-d978bcc9ece3",
   "metadata": {},
   "source": [
    "Run the following code to validate the sample data against your Expectation and view the results:"
   ]
  },
  {
   "cell_type": "code",
   "execution_count": null,
   "id": "8a36e203-a6e0-4919-b048-1aad2482b3fb",
   "metadata": {},
   "outputs": [],
   "source": [
    "validation_result = batch.validate(expectation)\n",
    "\n",
    "print(validation_result.describe())"
   ]
  },
  {
   "cell_type": "markdown",
   "id": "0f563da7-c1c0-4a01-ad37-1832db236a5c",
   "metadata": {},
   "source": [
    "The sample data conforms to the defined Expectation and the following Validation Results are returned:\n",
    "```\n",
    "{\n",
    "    \"expectation_type\": \"expect_column_values_to_be_between\",\n",
    "    \"success\": true,\n",
    "    \"kwargs\": {\n",
    "        \"batch_id\": \"default_pandas_datasource-#ephemeral_pandas_asset\",\n",
    "        \"column\": \"passenger_count\",\n",
    "        \"min_value\": 1.0,\n",
    "        \"max_value\": 6.0\n",
    "    },\n",
    "    \"result\": {\n",
    "        \"element_count\": 10000,\n",
    "        \"unexpected_count\": 0,\n",
    "        \"unexpected_percent\": 0.0,\n",
    "        \"partial_unexpected_list\": [],\n",
    "        \"missing_count\": 0,\n",
    "        \"missing_percent\": 0.0,\n",
    "        \"unexpected_percent_total\": 0.0,\n",
    "        \"unexpected_percent_nonmissing\": 0.0,\n",
    "        \"partial_unexpected_counts\": [],\n",
    "        \"partial_unexpected_index_list\": []\n",
    "    }\n",
    "}\n",
    "```"
   ]
  },
  {
   "cell_type": "markdown",
   "id": "9d6b09e6-c426-4160-ba1b-7170c19cd841",
   "metadata": {},
   "source": [
    "## Create an Expectation that fails when validated"
   ]
  },
  {
   "cell_type": "markdown",
   "id": "acccf64b-62c0-4fbf-a5e4-a3318040ad95",
   "metadata": {},
   "source": [
    "Create an Expectation that will fail when validated against the provided data.\n",
    "\n",
    "A failed Expectation lets you know there is something wrong with the data, such as missing or incorrect values, or there is a misunderstanding about the data.\n",
    "\n",
    "Run the following code to create an Expectation that fails because it assumes that a taxi can seat a maximum of three passengers:"
   ]
  },
  {
   "cell_type": "code",
   "execution_count": null,
   "id": "79c190b7-5df5-4739-9fb7-f00ae5ab9eab",
   "metadata": {},
   "outputs": [],
   "source": [
    "failed_expectation = gxe.ExpectColumnValuesToBeBetween(\n",
    "    column=\"passenger_count\", min_value=1, max_value=3\n",
    ")\n",
    "\n",
    "failed_validation_result = batch.validate(failed_expectation)\n",
    "\n",
    "print(failed_validation_result.describe())"
   ]
  },
  {
   "cell_type": "markdown",
   "id": "9b8a951a-8ec5-4a96-a68c-c9805d915218",
   "metadata": {},
   "source": [
    "When an Expectation fails, the Validation Results of the failed Expectation include metrics to help you assess the severity of the issue:\n",
    "```\n",
    "{\n",
    "    \"expectation_type\": \"expect_column_values_to_be_between\",\n",
    "    \"success\": false,\n",
    "    \"kwargs\": {\n",
    "        \"batch_id\": \"default_pandas_datasource-#ephemeral_pandas_asset\",\n",
    "        \"column\": \"passenger_count\",\n",
    "        \"min_value\": 1.0,\n",
    "        \"max_value\": 3.0\n",
    "    },\n",
    "    \"result\": {\n",
    "        \"element_count\": 10000,\n",
    "        \"unexpected_count\": 853,\n",
    "        \"unexpected_percent\": 8.53,\n",
    "        \"partial_unexpected_list\": [\n",
    "            4,\n",
    "            4,\n",
    "            4,\n",
    "            4,\n",
    "            4,\n",
    "            4,\n",
    "            4,\n",
    "            4,\n",
    "            4,\n",
    "            4,\n",
    "            4,\n",
    "            4,\n",
    "            4,\n",
    "            4,\n",
    "            4,\n",
    "            4,\n",
    "            4,\n",
    "            4,\n",
    "            4,\n",
    "            4\n",
    "        ],\n",
    "        \"missing_count\": 0,\n",
    "        \"missing_percent\": 0.0,\n",
    "        \"unexpected_percent_total\": 8.53,\n",
    "        \"unexpected_percent_nonmissing\": 8.53,\n",
    "        \"partial_unexpected_counts\": [\n",
    "            {\n",
    "                \"value\": 4,\n",
    "                \"count\": 20\n",
    "            }\n",
    "        ],\n",
    "        \"partial_unexpected_index_list\": [\n",
    "            9147,\n",
    "            9148,\n",
    "            9149,\n",
    "            9150,\n",
    "            9151,\n",
    "            9152,\n",
    "            9153,\n",
    "            9154,\n",
    "            9155,\n",
    "            9156,\n",
    "            9157,\n",
    "            9158,\n",
    "            9159,\n",
    "            9160,\n",
    "            9161,\n",
    "            9162,\n",
    "            9163,\n",
    "            9164,\n",
    "            9165,\n",
    "            9166\n",
    "        ]\n",
    "    }\n",
    "}\n",
    "```"
   ]
  },
  {
   "cell_type": "markdown",
   "id": "f522d10b-c9c3-4828-9a95-975c99993931",
   "metadata": {},
   "source": [
    "## Next Steps"
   ]
  },
  {
   "cell_type": "markdown",
   "id": "a2bb2c89-7815-4240-8ee2-992890ad4a49",
   "metadata": {},
   "source": [
    "* Go to the [Expectations Gallery](https://greatexpectations.io/expectations) and experiment with other Expectations.\n",
    "\n",
    "* [Check out GX Cloud](https://greatexpectations.io/cloud), our SaaS platform—it's now in public preview! [Sign up here](https://greatexpectations.io/cloud) and you could be validating your data in minutes. We also offer regular GX Cloud workshops: [click here to get more information and register](https://pages.greatexpectations.io/gx-cloud-workshops).\n",
    "\n",
    "* To learn more about GX 1.0, see [Community resources](https://docs.greatexpectations.io/docs/1.0-prerelease/core/introduction/community_resources).\n",
    "\n",
    "* If you're ready to start using GX 1.0 with your own data, the [Set up a GX environment](https://docs.greatexpectations.io/docs/1.0-prerelease/core/installation_and_setup/install_gx) documentation provides a more comprehensive guide to setting up GX to work with specific data formats and environments."
   ]
  },
  {
   "cell_type": "code",
   "execution_count": null,
   "id": "c1505381-8fae-4a5d-adaf-dd0a51367677",
   "metadata": {},
   "outputs": [],
   "source": []
  }
 ],
 "metadata": {
  "kernelspec": {
   "display_name": "Python 3 (ipykernel)",
   "language": "python",
   "name": "python3"
  },
  "language_info": {
   "codemirror_mode": {
    "name": "ipython",
    "version": 3
   },
   "file_extension": ".py",
   "mimetype": "text/x-python",
   "name": "python",
   "nbconvert_exporter": "python",
   "pygments_lexer": "ipython3",
   "version": "3.10.14"
  }
 },
 "nbformat": 4,
 "nbformat_minor": 5
}
